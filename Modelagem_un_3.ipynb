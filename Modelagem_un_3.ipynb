{
  "nbformat": 4,
  "nbformat_minor": 0,
  "metadata": {
    "colab": {
      "provenance": []
    },
    "kernelspec": {
      "name": "python3",
      "display_name": "Python 3"
    },
    "language_info": {
      "name": "python"
    }
  },
  "cells": [
    {
      "cell_type": "markdown",
      "source": [
        "#**Trabalho da unidade 3 de Modelagem e Análise de Sistemas Dinâmicos**\n",
        "Desenvolver um script (Python, Java ou Matlab) que receba um vetor como entrada. O vetor\n",
        "são os coeficientes do polinômio do denominador de uma função de transferência contínua.\n",
        "Exemplo: $s^4 + 3𝑠^3 + 2𝑠^2 + 7 $ o vetor seria [1 3 2 7]. O script deve retornar a quantidade de\n",
        "pólos instáveis que esse sistema possui com base no critério de Routh-Hurwitz.\n",
        "\n",
        "**Não levar em conta os casos especiais do critério de Routh-Hurwitz.**"
      ],
      "metadata": {
        "id": "6EeITFuwgcFy"
      }
    },
    {
      "cell_type": "markdown",
      "source": [
        "**Discentes:**\n",
        "\n",
        "- ANELMA SILVA DA COSTA\n",
        "- JULIA ALANNE SILVINO DOS SANTOS\n",
        "- JULIANE DA SILVA SANTOS\n",
        "- PABLO DURKHEIM FERNANDES DO NASCIMENTO\n",
        "- VIVIANE STEPHANE PINHEIRO NOVO"
      ],
      "metadata": {
        "id": "Tf4xbuVrBbws"
      }
    },
    {
      "cell_type": "markdown",
      "source": [
        "###**Critério de Estabilidade de Routh-Hurwitz**\n",
        "- O critério estabelece que o número de raízes da equação\n",
        "característica com parte real positiva é igual ao número de mudanças\n",
        "de sinal na primeira coluna da tabela;\n",
        "\n",
        "- O resultado não se altera quando todos os coeficientes de uma\n",
        "mesma linha são multiplicados ou divididos por um número positivo.\n"
      ],
      "metadata": {
        "id": "UoiwdgKFjqiT"
      }
    },
    {
      "cell_type": "code",
      "execution_count": null,
      "metadata": {
        "colab": {
          "base_uri": "https://localhost:8080/"
        },
        "id": "iEvn83JefCBk",
        "outputId": "a42a2254-41bf-4da8-cdb8-353a4bbe1e5c"
      },
      "outputs": [
        {
          "output_type": "stream",
          "name": "stdout",
          "text": [
            "Digite o polinômio. Ex: 2s^2 + 7 -> 2 0 7\n",
            "\n",
            "Polinômio: 1 2 3 4 11 10\n",
            "\n",
            "Seu polinômio digitado é 1s^5 + 2s^4 + 3s^3 + 4s^2 + 11s + 10\n",
            "\n",
            "Tabela de Routh-Hurwitz:\n",
            "s^ 5 |     1.00     3.00    11.00\n",
            "s^ 4 |     2.00     4.00    10.00\n",
            "s^ 3 |     1.00     6.00     0.00\n",
            "s^ 2 |    -8.00    10.00     0.00\n",
            "s^ 1 |     7.25     0.00     0.00\n",
            "s^ 0 |    10.00     0.00     0.00\n",
            "\n",
            "Houve 2 mudança(s) de sinal, o que implica que o sistema tem 2 pólo(s) com parte real positiva e que, portanto, é instável.\n",
            "\n",
            "As raízes são: 0.8034+1.4647j, 0.8034-1.4647j, -1.2501+1.2944j, -1.2501-1.2944j, -1.1066+0.0000j\n"
          ]
        }
      ],
      "source": [
        "#Discentes:\n",
        "#ANELMA SILVA DA COSTA\n",
        "#JULIA ALANNE SILVINO DOS SANTOS\n",
        "#JULIANE DA SILVA SANTOS\n",
        "#PABLO DURKHEIM FERNANDES DO NASCIMENTO\n",
        "#VIVIANE STEPHANE PINHEIRO NOVO\n",
        "\n",
        "from pickle import FALSE\n",
        "import numpy as np\n",
        "\n",
        "print(\"Digite o polinômio. Ex: 2s^2 + 7 -> 2 0 7\\n\")\n",
        "\n",
        "entrada = input(\"Polinômio: \")\n",
        "\n",
        "vetor = [int(coef) for coef in entrada.split()]\n",
        "\n",
        "casoParticular = False\n",
        "\n",
        "def formatar_polinomio(vetor):\n",
        "    n = len(vetor)\n",
        "    termos = []\n",
        "    for i in range(n):\n",
        "        coef = vetor[i]\n",
        "        grau = n - i - 1\n",
        "        if coef != 0:\n",
        "            if grau == 0:\n",
        "                termos.append(f'{coef}')\n",
        "            elif grau == 1:\n",
        "                termos.append(f'{coef}s')\n",
        "            else:\n",
        "                termos.append(f'{coef}s^{grau}')\n",
        "\n",
        "    polinomio_formatado = ' + '.join(termos).replace('+ -', '- ')\n",
        "    return polinomio_formatado\n",
        "\n",
        "def gerar_tabela_routh(vetor):\n",
        "    n = len(vetor) #total de coefientes da minha tabela\n",
        "    m = (n + 1) // 2  #já que sempre vai pulando um, pego o total de coefientes + 1, divido por 2 e arredondo para baixo. Isso para definir o nº de colunas\n",
        "    tabela = np.zeros((n, m)) #cria uma matriz n por m preenchida por zeros\n",
        "\n",
        "    #preencho as duas primeiras linhas da tabela\n",
        "    tabela[0, :len(vetor[::2])] = vetor[::2] #vou de 0 e pego apenas os pares\n",
        "    tabela[1, :len(vetor[1::2])] = vetor[1::2] #vou de 1 e pego aepenas os ímpares\n",
        "\n",
        "    global casoParticular\n",
        "\n",
        "    for i in range(2, n): #vou andar as linhas a partir de 2\n",
        "        for j in range(m - 1): #vou andar as colunas\n",
        "            a = tabela[i - 1, 0]\n",
        "            b = tabela[i - 2, 0]\n",
        "            c = tabela[i - 1, j + 1]\n",
        "            d = tabela[i - 2, j + 1]\n",
        "\n",
        "            if(a != 0):\n",
        "                tabela[i, j] = (a * d - b * c) / a\n",
        "            else:\n",
        "              print(\"\\nCaso particular, sinto muito\")\n",
        "              casoParticular = True\n",
        "              break\n",
        "        if(casoParticular):\n",
        "           break\n",
        "\n",
        "    return tabela\n",
        "\n",
        "def contar_mudancas_sinal(coluna):\n",
        "    sinais = np.sign(coluna) #pego o sinal de todo mundo\n",
        "    return np.sum(np.diff(sinais) != 0) #somo a quantidade de mudanças dos sinais consecutivos\n",
        "\n",
        "\n",
        "polinomio_formatado = formatar_polinomio(vetor)\n",
        "print(f'\\nSeu polinômio digitado é {polinomio_formatado}')\n",
        "\n",
        "tabela = gerar_tabela_routh(vetor)\n",
        "\n",
        "primeira_coluna = tabela[:, 0]\n",
        "mudancas_sinal = contar_mudancas_sinal(primeira_coluna)\n",
        "\n",
        "coeficientes = np.poly1d(vetor)\n",
        "raizes = np.roots(coeficientes)\n",
        "\n",
        "if casoParticular == False:\n",
        "\n",
        "  print(\"\\nTabela de Routh-Hurwitz:\")\n",
        "  for i, linha in enumerate(tabela):\n",
        "    grau = len(tabela) - i - 1\n",
        "    linha_formatada = ' '.join(f'{x:8.2f}' for x in linha)\n",
        "    print(f's^{grau:2d} | {linha_formatada}')\n",
        "  if(mudancas_sinal == 0):\n",
        "    print(f\"\\nHouve {mudancas_sinal} mudança(s) de sinal, o que implica que o sistema é estável.\")\n",
        "  else:\n",
        "    print(f\"\\nHouve {mudancas_sinal} mudança(s) de sinal, o que implica que o sistema tem {mudancas_sinal} pólo(s) com parte real positiva e que, portanto, é instável.\")\n",
        "    print(f\"\\nAs raízes são: {', '.join(f'{raiz:.4f}' for raiz in raizes)}\")\n",
        "\n"
      ]
    }
  ]
}